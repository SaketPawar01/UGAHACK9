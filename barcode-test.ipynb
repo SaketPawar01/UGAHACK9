{
 "cells": [
  {
   "cell_type": "code",
   "execution_count": 21,
   "metadata": {},
   "outputs": [
    {
     "name": "stdout",
     "output_type": "stream",
     "text": [
      "Collecting openai\n",
      "  Downloading openai-1.12.0-py3-none-any.whl.metadata (18 kB)\n",
      "Collecting anyio<5,>=3.5.0 (from openai)\n",
      "  Downloading anyio-4.2.0-py3-none-any.whl.metadata (4.6 kB)\n",
      "Collecting distro<2,>=1.7.0 (from openai)\n",
      "  Downloading distro-1.9.0-py3-none-any.whl.metadata (6.8 kB)\n",
      "Collecting httpx<1,>=0.23.0 (from openai)\n",
      "  Downloading httpx-0.26.0-py3-none-any.whl.metadata (7.6 kB)\n",
      "Collecting pydantic<3,>=1.9.0 (from openai)\n",
      "  Downloading pydantic-2.6.1-py3-none-any.whl.metadata (83 kB)\n",
      "     ---------------------------------------- 0.0/83.5 kB ? eta -:--:--\n",
      "     -------------- ------------------------- 30.7/83.5 kB ? eta -:--:--\n",
      "     ---------------------------------------- 83.5/83.5 kB 1.6 MB/s eta 0:00:00\n",
      "Collecting sniffio (from openai)\n",
      "  Downloading sniffio-1.3.0-py3-none-any.whl (10 kB)\n",
      "Collecting tqdm>4 (from openai)\n",
      "  Downloading tqdm-4.66.1-py3-none-any.whl.metadata (57 kB)\n",
      "     ---------------------------------------- 0.0/57.6 kB ? eta -:--:--\n",
      "     ---------------------------------------- 57.6/57.6 kB 3.0 MB/s eta 0:00:00\n",
      "Requirement already satisfied: typing-extensions<5,>=4.7 in c:\\users\\saket\\desktop\\tech\\ugahack9\\.venv\\lib\\site-packages (from openai) (4.9.0)\n",
      "Requirement already satisfied: idna>=2.8 in c:\\users\\saket\\desktop\\tech\\ugahack9\\.venv\\lib\\site-packages (from anyio<5,>=3.5.0->openai) (3.6)\n",
      "Requirement already satisfied: certifi in c:\\users\\saket\\desktop\\tech\\ugahack9\\.venv\\lib\\site-packages (from httpx<1,>=0.23.0->openai) (2024.2.2)\n",
      "Collecting httpcore==1.* (from httpx<1,>=0.23.0->openai)\n",
      "  Downloading httpcore-1.0.2-py3-none-any.whl.metadata (20 kB)\n",
      "Collecting h11<0.15,>=0.13 (from httpcore==1.*->httpx<1,>=0.23.0->openai)\n",
      "  Downloading h11-0.14.0-py3-none-any.whl (58 kB)\n",
      "     ---------------------------------------- 0.0/58.3 kB ? eta -:--:--\n",
      "     ---------------------------------------- 58.3/58.3 kB 3.2 MB/s eta 0:00:00\n",
      "Collecting annotated-types>=0.4.0 (from pydantic<3,>=1.9.0->openai)\n",
      "  Downloading annotated_types-0.6.0-py3-none-any.whl.metadata (12 kB)\n",
      "Collecting pydantic-core==2.16.2 (from pydantic<3,>=1.9.0->openai)\n",
      "  Downloading pydantic_core-2.16.2-cp311-none-win_amd64.whl.metadata (6.6 kB)\n",
      "Requirement already satisfied: colorama in c:\\users\\saket\\desktop\\tech\\ugahack9\\.venv\\lib\\site-packages (from tqdm>4->openai) (0.4.6)\n",
      "Downloading openai-1.12.0-py3-none-any.whl (226 kB)\n",
      "   ---------------------------------------- 0.0/226.7 kB ? eta -:--:--\n",
      "   ------------ --------------------------- 71.7/226.7 kB 1.3 MB/s eta 0:00:01\n",
      "   ---------------------------------------- 226.7/226.7 kB 2.3 MB/s eta 0:00:00\n",
      "Downloading anyio-4.2.0-py3-none-any.whl (85 kB)\n",
      "   ---------------------------------------- 0.0/85.5 kB ? eta -:--:--\n",
      "   ---------------------------------------- 85.5/85.5 kB ? eta 0:00:00\n",
      "Downloading distro-1.9.0-py3-none-any.whl (20 kB)\n",
      "Downloading httpx-0.26.0-py3-none-any.whl (75 kB)\n",
      "   ---------------------------------------- 0.0/75.9 kB ? eta -:--:--\n",
      "   ---------------------------------------- 75.9/75.9 kB 4.4 MB/s eta 0:00:00\n",
      "Downloading httpcore-1.0.2-py3-none-any.whl (76 kB)\n",
      "   ---------------------------------------- 0.0/76.9 kB ? eta -:--:--\n",
      "   ---------------------------------------- 76.9/76.9 kB 4.4 MB/s eta 0:00:00\n",
      "Downloading pydantic-2.6.1-py3-none-any.whl (394 kB)\n",
      "   ---------------------------------------- 0.0/394.8 kB ? eta -:--:--\n",
      "   ----------- ---------------------------- 112.6/394.8 kB 6.8 MB/s eta 0:00:01\n",
      "   ------------------------- -------------- 256.0/394.8 kB 3.2 MB/s eta 0:00:01\n",
      "   ---------------------------------------- 394.8/394.8 kB 3.1 MB/s eta 0:00:00\n",
      "Downloading pydantic_core-2.16.2-cp311-none-win_amd64.whl (1.9 MB)\n",
      "   ---------------------------------------- 0.0/1.9 MB ? eta -:--:--\n",
      "   - -------------------------------------- 0.1/1.9 MB ? eta -:--:--\n",
      "   ------ --------------------------------- 0.3/1.9 MB 3.9 MB/s eta 0:00:01\n",
      "   ------------- -------------------------- 0.7/1.9 MB 5.2 MB/s eta 0:00:01\n",
      "   -------------------- ------------------- 1.0/1.9 MB 5.7 MB/s eta 0:00:01\n",
      "   --------------------------- ------------ 1.3/1.9 MB 5.9 MB/s eta 0:00:01\n",
      "   ----------------------------------- ---- 1.7/1.9 MB 6.7 MB/s eta 0:00:01\n",
      "   ---------------------------------------- 1.9/1.9 MB 6.3 MB/s eta 0:00:00\n",
      "Downloading tqdm-4.66.1-py3-none-any.whl (78 kB)\n",
      "   ---------------------------------------- 0.0/78.3 kB ? eta -:--:--\n",
      "   ---------------------------------------- 78.3/78.3 kB 4.3 MB/s eta 0:00:00\n",
      "Downloading annotated_types-0.6.0-py3-none-any.whl (12 kB)\n",
      "Installing collected packages: tqdm, sniffio, pydantic-core, h11, distro, annotated-types, pydantic, httpcore, anyio, httpx, openai\n",
      "Successfully installed annotated-types-0.6.0 anyio-4.2.0 distro-1.9.0 h11-0.14.0 httpcore-1.0.2 httpx-0.26.0 openai-1.12.0 pydantic-2.6.1 pydantic-core-2.16.2 sniffio-1.3.0 tqdm-4.66.1\n"
     ]
    }
   ],
   "source": [
    "!pip install --upgrade openai"
   ]
  },
  {
   "cell_type": "code",
   "execution_count": 27,
   "metadata": {},
   "outputs": [
    {
     "name": "stdout",
     "output_type": "stream",
     "text": [
      "{'code': 'OK', 'total': 0, 'offset': 0, 'items': []}\n"
     ]
    }
   ],
   "source": [
    "import requests\n",
    "import json\n",
    "headers = {\n",
    "    \"Content-Type\": \"application/json\",\n",
    "    \"Accept\": \"application/json\",\n",
    "    \"Accept-Encoding\": \"gzip,deflate\",\n",
    "}\n",
    "resp = requests.get(\n",
    "    \"https://api.upcitemdb.com/prod/trial/lookup?upc=0\" + \"8010471006335\",\n",
    "    headers=headers,\n",
    ")\n",
    "data = json.loads(resp.text)\n",
    "print(data)"
   ]
  },
  {
   "cell_type": "code",
   "execution_count": 18,
   "metadata": {},
   "outputs": [
    {
     "name": "stdout",
     "output_type": "stream",
     "text": [
      "{'088004144708': {'flavor': ['Cinnamon'], 'sweetness': 3, 'alcohol_percentage': 33, 'price': {'lower': 2.99, 'upper': 5.99}, 'acidity': 2, 'carbonation': 1, 'facts': 'Fireball Cinnamon Whiskey is a popular flavored whiskey known for its strong cinnamon flavor and smooth finish. It is produced in Canada and bottled at 33% alcohol by volume. Fireball Whiskey is commonly enjoyed as a shot or used as an ingredient in cocktails, and has gained a dedicated following for its unique taste and fiery kick.'}, '857641002296': {'flavor': ['Pineapple', 'Colada'], 'sweetness': 4, 'alcohol_percentage': 15, 'price': {'lower': 1.99, 'upper': 2.49}, 'acidity': 2, 'carbonation': 1, 'facts': 'Buzzballz Chillerz Pineapple Colada Chiller Cocktail is a tropical and refreshing ready-to-drink cocktail that combines the flavors of sweet pineapple and creamy colada. With an alcohol content of 15%, it is sure to provide a buzz. This drink is moderately sweet and has low acidity, making it a great choice for those who enjoy fruity and smooth beverages. The Buzzballz Chillerz Pineapple Colada Chiller Cocktail comes in a convenient 187 ml size, perfect for on-the-go enjoyment.'}}\n"
     ]
    }
   ],
   "source": [
    "import json\n",
    "new_data = {}\n",
    "with open(\"cache.json\", \"r\") as f:\n",
    "    data = json.load(f)\n",
    "    for barcode in data.keys():\n",
    "        # print(barcode)\n",
    "        drink_data = eval(data[barcode][\"data\"].replace(\"\\n\", \"\"))\n",
    "        # print(type(drink_data), drink_data)\n",
    "        temp_dict = {}\n",
    "        for key in drink_data.keys():\n",
    "            temp_dict[key] = drink_data[key]\n",
    "        new_data[barcode] = temp_dict\n",
    "\n",
    "print(new_data)\n",
    "\n",
    "with open(\"cache.json\", \"w\") as f:\n",
    "    json.dump(new_data, f, indent=4)"
   ]
  },
  {
   "cell_type": "code",
   "execution_count": 16,
   "metadata": {},
   "outputs": [
    {
     "name": "stdout",
     "output_type": "stream",
     "text": [
      "<class 'ucimlrepo.dotdict.dotdict'>\n"
     ]
    }
   ],
   "source": [
    "from ucimlrepo import fetch_ucirepo\n",
    "\n",
    "# fetch dataset\n",
    "wine = fetch_ucirepo(id=109)\n",
    "\n",
    "# data (as pandas dataframes)\n",
    "X = wine.data.features\n",
    "y = wine.data.targets"
   ]
  },
  {
   "cell_type": "code",
   "execution_count": 20,
   "metadata": {},
   "outputs": [
    {
     "name": "stdout",
     "output_type": "stream",
     "text": [
      "     class\n",
      "0        1\n",
      "1        1\n",
      "2        1\n",
      "3        1\n",
      "4        1\n",
      "..     ...\n",
      "173      3\n",
      "174      3\n",
      "175      3\n",
      "176      3\n",
      "177      3\n",
      "\n",
      "[178 rows x 1 columns]\n"
     ]
    }
   ],
   "source": [
    "print(wine.data.targets)"
   ]
  },
  {
   "cell_type": "code",
   "execution_count": 31,
   "metadata": {},
   "outputs": [
    {
     "name": "stdout",
     "output_type": "stream",
     "text": [
      "{'flavor': ['Sweet', 'Fruity'], 'sweetness': 5, 'alcohol_percentage': 5, 'price': {'lower': 13.0, 'upper': 18.0}, 'acidity': 2, 'carbonation': 3, 'facts': \"Moscato d'Asti Sori Gramella is a sweet and fruity Italian sparkling wine. It has a lower alcohol percentage of 5% and is known for its intense sweetness. The wine is characterized by its floral and fruity flavors, with notes of peaches, apricots, and citrus. It has a gentle acidity and a moderate level of carbonation, making it a refreshing and easy-to-drink choice. Moscato d'Asti Sori Gramella typically falls in the price range of $13.00 to $18.00. It is a popular choice for dessert or as an aperitif. Enjoy it chilled for a delightful and aromatic experience.\"}\n"
     ]
    }
   ],
   "source": [
    "from main import request_alc_data\n",
    "\n",
    "print(request_alc_data(\"Moscato d'Asti Sori Gramella\"))"
   ]
  }
 ],
 "metadata": {
  "kernelspec": {
   "display_name": ".venv",
   "language": "python",
   "name": "python3"
  },
  "language_info": {
   "codemirror_mode": {
    "name": "ipython",
    "version": 3
   },
   "file_extension": ".py",
   "mimetype": "text/x-python",
   "name": "python",
   "nbconvert_exporter": "python",
   "pygments_lexer": "ipython3",
   "version": "3.11.4"
  }
 },
 "nbformat": 4,
 "nbformat_minor": 2
}
