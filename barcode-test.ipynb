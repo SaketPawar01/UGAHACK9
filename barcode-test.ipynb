{
 "cells": [
  {
   "cell_type": "code",
   "execution_count": 21,
   "metadata": {},
   "outputs": [
    {
     "name": "stdout",
     "output_type": "stream",
     "text": [
      "Collecting openai\n",
      "  Downloading openai-1.12.0-py3-none-any.whl.metadata (18 kB)\n",
      "Collecting anyio<5,>=3.5.0 (from openai)\n",
      "  Downloading anyio-4.2.0-py3-none-any.whl.metadata (4.6 kB)\n",
      "Collecting distro<2,>=1.7.0 (from openai)\n",
      "  Downloading distro-1.9.0-py3-none-any.whl.metadata (6.8 kB)\n",
      "Collecting httpx<1,>=0.23.0 (from openai)\n",
      "  Downloading httpx-0.26.0-py3-none-any.whl.metadata (7.6 kB)\n",
      "Collecting pydantic<3,>=1.9.0 (from openai)\n",
      "  Downloading pydantic-2.6.1-py3-none-any.whl.metadata (83 kB)\n",
      "     ---------------------------------------- 0.0/83.5 kB ? eta -:--:--\n",
      "     -------------- ------------------------- 30.7/83.5 kB ? eta -:--:--\n",
      "     ---------------------------------------- 83.5/83.5 kB 1.6 MB/s eta 0:00:00\n",
      "Collecting sniffio (from openai)\n",
      "  Downloading sniffio-1.3.0-py3-none-any.whl (10 kB)\n",
      "Collecting tqdm>4 (from openai)\n",
      "  Downloading tqdm-4.66.1-py3-none-any.whl.metadata (57 kB)\n",
      "     ---------------------------------------- 0.0/57.6 kB ? eta -:--:--\n",
      "     ---------------------------------------- 57.6/57.6 kB 3.0 MB/s eta 0:00:00\n",
      "Requirement already satisfied: typing-extensions<5,>=4.7 in c:\\users\\saket\\desktop\\tech\\ugahack9\\.venv\\lib\\site-packages (from openai) (4.9.0)\n",
      "Requirement already satisfied: idna>=2.8 in c:\\users\\saket\\desktop\\tech\\ugahack9\\.venv\\lib\\site-packages (from anyio<5,>=3.5.0->openai) (3.6)\n",
      "Requirement already satisfied: certifi in c:\\users\\saket\\desktop\\tech\\ugahack9\\.venv\\lib\\site-packages (from httpx<1,>=0.23.0->openai) (2024.2.2)\n",
      "Collecting httpcore==1.* (from httpx<1,>=0.23.0->openai)\n",
      "  Downloading httpcore-1.0.2-py3-none-any.whl.metadata (20 kB)\n",
      "Collecting h11<0.15,>=0.13 (from httpcore==1.*->httpx<1,>=0.23.0->openai)\n",
      "  Downloading h11-0.14.0-py3-none-any.whl (58 kB)\n",
      "     ---------------------------------------- 0.0/58.3 kB ? eta -:--:--\n",
      "     ---------------------------------------- 58.3/58.3 kB 3.2 MB/s eta 0:00:00\n",
      "Collecting annotated-types>=0.4.0 (from pydantic<3,>=1.9.0->openai)\n",
      "  Downloading annotated_types-0.6.0-py3-none-any.whl.metadata (12 kB)\n",
      "Collecting pydantic-core==2.16.2 (from pydantic<3,>=1.9.0->openai)\n",
      "  Downloading pydantic_core-2.16.2-cp311-none-win_amd64.whl.metadata (6.6 kB)\n",
      "Requirement already satisfied: colorama in c:\\users\\saket\\desktop\\tech\\ugahack9\\.venv\\lib\\site-packages (from tqdm>4->openai) (0.4.6)\n",
      "Downloading openai-1.12.0-py3-none-any.whl (226 kB)\n",
      "   ---------------------------------------- 0.0/226.7 kB ? eta -:--:--\n",
      "   ------------ --------------------------- 71.7/226.7 kB 1.3 MB/s eta 0:00:01\n",
      "   ---------------------------------------- 226.7/226.7 kB 2.3 MB/s eta 0:00:00\n",
      "Downloading anyio-4.2.0-py3-none-any.whl (85 kB)\n",
      "   ---------------------------------------- 0.0/85.5 kB ? eta -:--:--\n",
      "   ---------------------------------------- 85.5/85.5 kB ? eta 0:00:00\n",
      "Downloading distro-1.9.0-py3-none-any.whl (20 kB)\n",
      "Downloading httpx-0.26.0-py3-none-any.whl (75 kB)\n",
      "   ---------------------------------------- 0.0/75.9 kB ? eta -:--:--\n",
      "   ---------------------------------------- 75.9/75.9 kB 4.4 MB/s eta 0:00:00\n",
      "Downloading httpcore-1.0.2-py3-none-any.whl (76 kB)\n",
      "   ---------------------------------------- 0.0/76.9 kB ? eta -:--:--\n",
      "   ---------------------------------------- 76.9/76.9 kB 4.4 MB/s eta 0:00:00\n",
      "Downloading pydantic-2.6.1-py3-none-any.whl (394 kB)\n",
      "   ---------------------------------------- 0.0/394.8 kB ? eta -:--:--\n",
      "   ----------- ---------------------------- 112.6/394.8 kB 6.8 MB/s eta 0:00:01\n",
      "   ------------------------- -------------- 256.0/394.8 kB 3.2 MB/s eta 0:00:01\n",
      "   ---------------------------------------- 394.8/394.8 kB 3.1 MB/s eta 0:00:00\n",
      "Downloading pydantic_core-2.16.2-cp311-none-win_amd64.whl (1.9 MB)\n",
      "   ---------------------------------------- 0.0/1.9 MB ? eta -:--:--\n",
      "   - -------------------------------------- 0.1/1.9 MB ? eta -:--:--\n",
      "   ------ --------------------------------- 0.3/1.9 MB 3.9 MB/s eta 0:00:01\n",
      "   ------------- -------------------------- 0.7/1.9 MB 5.2 MB/s eta 0:00:01\n",
      "   -------------------- ------------------- 1.0/1.9 MB 5.7 MB/s eta 0:00:01\n",
      "   --------------------------- ------------ 1.3/1.9 MB 5.9 MB/s eta 0:00:01\n",
      "   ----------------------------------- ---- 1.7/1.9 MB 6.7 MB/s eta 0:00:01\n",
      "   ---------------------------------------- 1.9/1.9 MB 6.3 MB/s eta 0:00:00\n",
      "Downloading tqdm-4.66.1-py3-none-any.whl (78 kB)\n",
      "   ---------------------------------------- 0.0/78.3 kB ? eta -:--:--\n",
      "   ---------------------------------------- 78.3/78.3 kB 4.3 MB/s eta 0:00:00\n",
      "Downloading annotated_types-0.6.0-py3-none-any.whl (12 kB)\n",
      "Installing collected packages: tqdm, sniffio, pydantic-core, h11, distro, annotated-types, pydantic, httpcore, anyio, httpx, openai\n",
      "Successfully installed annotated-types-0.6.0 anyio-4.2.0 distro-1.9.0 h11-0.14.0 httpcore-1.0.2 httpx-0.26.0 openai-1.12.0 pydantic-2.6.1 pydantic-core-2.16.2 sniffio-1.3.0 tqdm-4.66.1\n"
     ]
    }
   ],
   "source": [
    "!pip install --upgrade openai"
   ]
  },
  {
   "cell_type": "code",
   "execution_count": 27,
   "metadata": {},
   "outputs": [
    {
     "name": "stdout",
     "output_type": "stream",
     "text": [
      "{'code': 'OK', 'total': 1, 'offset': 0, 'items': [{'ean': '0088004144708', 'title': 'Fireball Cinnamon Whiskey, 50 mL', 'description': 'FIREBALL WHISKEY', 'upc': '088004144708', 'brand': 'Fireball', 'model': '0008800414470', 'color': 'Other', 'size': '', 'dimension': '', 'weight': '', 'category': 'Food, Beverages & Tobacco > Beverages > Alcoholic Beverages > Liquor & Spirits > Whiskey', 'currency': '', 'lowest_recorded_price': 0, 'highest_recorded_price': 25, 'images': ['https://pics.walgreens.com/prodimg/628900/450.jpg', 'https://i5.walmartimages.com/asr/57e5c775-ffda-47b6-a365-f56c91c2489e_1.f188c84dc359680fa3def3b4ddf8f626.jpeg?odnHeight=450&odnWidth=450&odnBg=ffffff', 'https://target.scene7.com/is/image/Target/GUEST_e38cb03e-b87e-41e5-8430-8f3673c84e1d?wid=1000&hei=1000', 'http://ct.mywebgrocer.com/legacy/productimagesroot/DJ/3/1326943.jpg'], 'offers': [{'merchant': 'Walgreens', 'domain': 'walgreens.com', 'title': 'Fireball Whiskey - 50.0 ml', 'currency': '', 'list_price': '', 'price': 1.29, 'shipping': 'US:::5.99 USD', 'condition': 'New', 'availability': '', 'link': 'https://www.upcitemdb.com/norob/alink/?id=13o2x2x2z203d4d4s2&tid=1&seq=1707594926&plt=6332e4caf9acfb8e13b5694bb33a3389', 'updated_t': 1688815167}, {'merchant': 'Wal-Mart.com', 'domain': 'walmart.com', 'title': 'Fireball Cinnamon Whiskey, 50 mL', 'currency': '', 'list_price': '', 'price': 1.47, 'shipping': '5.99', 'condition': 'New', 'availability': '', 'link': 'https://www.upcitemdb.com/norob/alink/?id=v2q2z2031363d454t2&tid=1&seq=1707594926&plt=b706df3f17c188b10cf135419414a30f', 'updated_t': 1614626551}, {'merchant': 'Target', 'domain': 'target.com', 'title': 'Fireball Cinnamon Whisky - 50ml Plastic Bottle', 'currency': '', 'list_price': '', 'price': 0.99, 'shipping': '', 'condition': 'New', 'availability': '', 'link': 'https://www.upcitemdb.com/norob/alink/?id=x2s263w2x2x2c474y2&tid=1&seq=1707594926&plt=6dc248031fce8967f34038a899ba985d', 'updated_t': 1600745833}, {'merchant': 'Albertsons', 'domain': 'albertsons.com', 'title': 'Fireball - Cinnamon Whiskey 1.69 fl oz', 'currency': '', 'list_price': '', 'price': 0, 'shipping': '', 'condition': 'New', 'availability': '', 'link': 'https://www.upcitemdb.com/norob/alink/?id=v2q2330333x2d464q2&tid=1&seq=1707594926&plt=b2d49e672095b8d685aa99965e20608d', 'updated_t': 1484640937}], 'elid': '275690565490'}]}\n"
     ]
    }
   ],
   "source": [
    "import requests\n",
    "import json\n",
    "headers = {\n",
    "    \"Content-Type\": \"application/json\",\n",
    "    \"Accept\": \"application/json\",\n",
    "    \"Accept-Encoding\": \"gzip,deflate\",\n",
    "}\n",
    "resp = requests.get(\n",
    "    \"https://api.upcitemdb.com/prod/trial/lookup?upc=0088004144708\", headers=headers\n",
    ")\n",
    "data = json.loads(resp.text)\n",
    "print(data)"
   ]
  },
  {
   "cell_type": "code",
   "execution_count": null,
   "metadata": {},
   "outputs": [],
   "source": [
    "4002293401102"
   ]
  },
  {
   "cell_type": "code",
   "execution_count": 16,
   "metadata": {},
   "outputs": [
    {
     "name": "stdout",
     "output_type": "stream",
     "text": [
      "<class 'ucimlrepo.dotdict.dotdict'>\n"
     ]
    }
   ],
   "source": [
    "from ucimlrepo import fetch_ucirepo\n",
    "\n",
    "# fetch dataset\n",
    "wine = fetch_ucirepo(id=109)\n",
    "\n",
    "# data (as pandas dataframes)\n",
    "X = wine.data.features\n",
    "y = wine.data.targets"
   ]
  },
  {
   "cell_type": "code",
   "execution_count": 20,
   "metadata": {},
   "outputs": [
    {
     "name": "stdout",
     "output_type": "stream",
     "text": [
      "     class\n",
      "0        1\n",
      "1        1\n",
      "2        1\n",
      "3        1\n",
      "4        1\n",
      "..     ...\n",
      "173      3\n",
      "174      3\n",
      "175      3\n",
      "176      3\n",
      "177      3\n",
      "\n",
      "[178 rows x 1 columns]\n"
     ]
    }
   ],
   "source": [
    "print(wine.data.targets)"
   ]
  }
 ],
 "metadata": {
  "kernelspec": {
   "display_name": ".venv",
   "language": "python",
   "name": "python3"
  },
  "language_info": {
   "codemirror_mode": {
    "name": "ipython",
    "version": 3
   },
   "file_extension": ".py",
   "mimetype": "text/x-python",
   "name": "python",
   "nbconvert_exporter": "python",
   "pygments_lexer": "ipython3",
   "version": "3.11.4"
  }
 },
 "nbformat": 4,
 "nbformat_minor": 2
}
